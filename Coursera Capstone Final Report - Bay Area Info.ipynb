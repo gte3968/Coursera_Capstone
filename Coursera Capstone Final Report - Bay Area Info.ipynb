{
 "cells": [
  {
   "cell_type": "markdown",
   "metadata": {},
   "source": [
    "# <center>Coursera Capstone Project - Bay Area Info </center>\n",
    "### <center>Daniel Bai </center>\n",
    "\n",
    "\n",
    "## 1. Introduction\n",
    "I live in the San Francisco Bay Area, where the Silicon Valley is situated. Like any other areas, there are variations location to location in demographics and economy, among others. It would be handy to have an easy by-zip code view of the basic information such as population, ethnicity distribution, housing price, per capita income, crime rate, school rating, and business concentratrations (e.g., which zip code has most Chinese restrants ) etc for the bay area. This would give researchers, government agencies, residents and business owners direct and quantitative insights into each zip code. As a result this will help facilitate understaning of the area, goverment planning, exploring the area or choosing a place to live as a resident, and business decisions such as where is the best location to open an Asian restaurant.\n",
    "\n",
    "In this project, due to the scope limiation and data availability, only a small subset of the aforementioned data will be included, which is summarized in the next section. \n",
    "\n",
    "## 2. Data\n",
    "### 2.1 Data Collection\n",
    "From online search, I have collected the following datasets: \n",
    "\n",
    "•\tAll zip codes of the bay area \n",
    "https://data.sfgov.org/Geographic-Locations-and-Boundaries/Bay-Area-ZIP-Codes/u5j3-svi6\n",
    "\n",
    "•\tLatitudes and longitudes for all zip codes in California \n",
    "https://public.opendatasoft.com/explore/dataset/us-zip-code-latitude-and-longitude/table/\n",
    "\n",
    "•\tPopulation by zip code for California (2019)\n",
    "https://www.california-demographics.com/zip_codes_by_population\n",
    "\n",
    "•\tUS nation-wide monthly housing price data by zip code : US (1996-2020) \n",
    "https://www.zillow.com/research/data/\n",
    "\n",
    "•\tCalifornia’s by zip code tax data from IRS (2017) \n",
    "https://www.irs.gov/statistics/soi-tax-stats-individual-income-tax-statistics-2017-zip-code-data-soi\n",
    "\n",
    "•\tFoursquare data via API calls to Foursquare.com\n",
    "https://developer.foursquare.com\n",
    "\n",
    "Only a portion of each data file has the data of interest. Therefore data merge and cleaning is done first to \n",
    "generate the master pandas Dataframe that contains zip code, latitude, longtitude, population, per capita income, \n",
    "housing price. Additional data columns will be added during the data analysis. "
   ]
  },
  {
   "cell_type": "code",
   "execution_count": null,
   "metadata": {},
   "outputs": [],
   "source": []
  }
 ],
 "metadata": {
  "kernelspec": {
   "display_name": "Python 3",
   "language": "python",
   "name": "python3"
  },
  "language_info": {
   "codemirror_mode": {
    "name": "ipython",
    "version": 3
   },
   "file_extension": ".py",
   "mimetype": "text/x-python",
   "name": "python",
   "nbconvert_exporter": "python",
   "pygments_lexer": "ipython3",
   "version": "3.7.4"
  }
 },
 "nbformat": 4,
 "nbformat_minor": 2
}
